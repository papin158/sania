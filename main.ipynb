{
 "cells": [
  {
   "cell_type": "code",
   "id": "initial_id",
   "metadata": {
    "collapsed": true,
    "ExecuteTime": {
     "end_time": "2025-03-18T21:04:39.438305Z",
     "start_time": "2025-03-18T21:04:38.914277Z"
    }
   },
   "source": [
    "import enum\n",
    "import re\n",
    "import tkinter as tk\n",
    "import typing\n",
    "import logging\n",
    "from base64 import b64encode\n",
    "from icecream import ic\n",
    "\n",
    "from seleniumwire import webdriver\n",
    "\n",
    "from selenium.webdriver.chrome.service import Service\n",
    "from selenium.webdriver.common.by import By\n",
    "from time import sleep\n",
    "from bs4 import BeautifulSoup\n",
    "from functools import partial\n",
    "\n",
    "from config import *\n",
    "import requests\n",
    "from webdriver_manager.chrome import ChromeDriverManager"
   ],
   "outputs": [],
   "execution_count": 1
  },
  {
   "metadata": {
    "ExecuteTime": {
     "end_time": "2025-03-18T21:04:39.453848Z",
     "start_time": "2025-03-18T21:04:39.444330Z"
    }
   },
   "cell_type": "code",
   "source": "logging.basicConfig(level=logging.INFO)",
   "id": "4e89b3e23e4ac27",
   "outputs": [],
   "execution_count": 2
  },
  {
   "metadata": {
    "ExecuteTime": {
     "end_time": "2025-03-18T21:04:39.500413Z",
     "start_time": "2025-03-18T21:04:39.485907Z"
    }
   },
   "cell_type": "code",
   "source": [
    "class Config:\n",
    "    button_check = '/html/body/app-root/div/app-candidate-application/app-candidate-application-item/div/div/div/div[3]/div/div[1]/form/div[2]/button[2]'\n",
    "    send_but = '/html/body/app-root/div/app-candidate-application/app-candidate-application-item/div/div/div/div[3]/div/div[1]/div/button'\n",
    "    send_but_other = '/html/body/app-root/div/app-candidate-application/app-candidate-application-item/div/div/div/div[3]/div/div[1]/form/div[2]/button[2]'\n",
    "    table_body = '/html/body/app-root/div/app-candidate-applications/app-candidate-applications-list/table/tbody/tr[1]/td[1]'\n",
    "    pagination = '/html/body/app-root/div/app-candidate-applications/app-candidate-applications-list/ngb-pagination[1]/ul'\n",
    "    item_button = '/html/body/app-root/div/app-candidate-application/app-candidate-application-item/div/div/div/div[3]/div/div[2]/form/div/button'\n",
    "\n",
    "config = Config()"
   ],
   "id": "37b7e69e1663fede",
   "outputs": [],
   "execution_count": 3
  },
  {
   "metadata": {
    "ExecuteTime": {
     "end_time": "2025-03-18T21:04:39.531084Z",
     "start_time": "2025-03-18T21:04:39.517062Z"
    }
   },
   "cell_type": "code",
   "source": [
    "class ReturnValue(enum.IntEnum):\n",
    "    test = 0\n",
    "    verify_or_GMS = 1"
   ],
   "id": "f49a72b3b8a4180c",
   "outputs": [],
   "execution_count": 4
  },
  {
   "metadata": {
    "ExecuteTime": {
     "end_time": "2025-03-18T21:04:39.561784Z",
     "start_time": "2025-03-18T21:04:39.547274Z"
    }
   },
   "cell_type": "code",
   "source": [
    "def send_msg(text): # функция принимает текст и отправляет его в чат в тг\n",
    "    token = tg_token # тут лежит токен бота\n",
    "    chat_id = \"-959491185\" # id чата который получает сообщение\n",
    "    url_req = \"https://api.telegram.org/bot\" + token + \"/sendMessage\" + \"?chat_id=\" + chat_id + \"&text=\" + text\n",
    "    return requests.get(url_req)"
   ],
   "id": "2048a246419eae64",
   "outputs": [],
   "execution_count": 5
  },
  {
   "metadata": {
    "ExecuteTime": {
     "end_time": "2025-03-18T21:04:39.593745Z",
     "start_time": "2025-03-18T21:04:39.578936Z"
    }
   },
   "cell_type": "code",
   "source": [
    "def intercept_request(request):\n",
    "    ic(request)\n",
    "    request.headers['Authorization'] = f\"Basic {b64encode(f'{AUTH.login_admin}:{AUTH.password_admin}'.encode()).decode()}\""
   ],
   "id": "714bc4d54a1fbf5c",
   "outputs": [],
   "execution_count": 6
  },
  {
   "metadata": {
    "ExecuteTime": {
     "end_time": "2025-03-18T21:04:39.624830Z",
     "start_time": "2025-03-18T21:04:39.609771Z"
    }
   },
   "cell_type": "code",
   "source": [
    "class Driver(webdriver.Chrome):\n",
    "    def __init__(self, *args, seleniumwire_options=None, **kwargs):\n",
    "        super().__init__(*args, seleniumwire_options=seleniumwire_options, **kwargs)\n",
    "        self._current_implicitly_wait = 0\n",
    "        self.execute_cdp_cmd(\"Page.addScriptToEvaluateOnNewDocument\", {\n",
    "            \"source\": \"\"\"\n",
    "                        Object.defineProperty(navigator, 'webdriver', {\n",
    "                            get: () => undefined\n",
    "                        })\n",
    "                    \"\"\"\n",
    "        })\n",
    "\n",
    "    def create_new_tab(self, url='about:blank'):\n",
    "        script = f\"window.open('{url}','_blank');\"\n",
    "        return self.execute_script(script)\n",
    "        # return self.execute_cdp_cmd(\"Target.createTarget\", {\"url\": url})\n",
    "\n",
    "    def close_last_tab(self):\n",
    "        ...\n",
    "\n",
    "\n",
    "    @property\n",
    "    def current_implicitly_wait(self):\n",
    "        return self._current_implicitly_wait\n",
    "\n",
    "    def implicitly_wait(self, seconds):\n",
    "        super().implicitly_wait(seconds)\n",
    "        self._current_implicitly_wait = seconds"
   ],
   "id": "e66560771b1b0cb0",
   "outputs": [],
   "execution_count": 7
  },
  {
   "metadata": {
    "ExecuteTime": {
     "end_time": "2025-03-18T21:04:41.589271Z",
     "start_time": "2025-03-18T21:04:39.641849Z"
    }
   },
   "cell_type": "code",
   "source": [
    "driver = Driver(service=Service(ChromeDriverManager().install()))\n",
    "driver.implicitly_wait(10)"
   ],
   "id": "2981669185e2dace",
   "outputs": [
    {
     "name": "stderr",
     "output_type": "stream",
     "text": [
      "INFO:WDM:====== WebDriver manager ======\n",
      "INFO:WDM:Get LATEST chromedriver version for google-chrome\n",
      "INFO:WDM:Get LATEST chromedriver version for google-chrome\n",
      "INFO:WDM:Driver [C:\\Users\\1\\.wdm\\drivers\\chromedriver\\win64\\134.0.6998.88\\chromedriver-win32/chromedriver.exe] found in cache\n",
      "INFO:seleniumwire.storage:Using default request storage\n",
      "INFO:seleniumwire.backend:Created proxy listening on 127.0.0.1:59318\n",
      "INFO:seleniumwire.handler:Capturing request: http://clients2.google.com/time/1/current?cup2key=8:2ue5XQ9VHL9PJLRWRm47YqV9phmWfD7V35aa75sY1Rk&cup2hreq=e3b0c44298fc1c149afbf4c8996fb92427ae41e4649b934ca495991b7852b855\n",
      "INFO:seleniumwire.handler:Capturing request: https://accounts.google.com/ListAccounts?gpsia=1&source=ChromiumBrowser&json=standard\n"
     ]
    }
   ],
   "execution_count": 8
  },
  {
   "metadata": {
    "ExecuteTime": {
     "end_time": "2025-03-18T21:04:41.824022Z",
     "start_time": "2025-03-18T21:04:41.606300Z"
    }
   },
   "cell_type": "code",
   "source": [
    "ic(\"Установка интерцептора запросов\")\n",
    "driver.request_interceptor = intercept_request\n",
    "ic(\"Интерцептор установлен: \", driver.request_interceptor)"
   ],
   "id": "4416384b93cbcd9",
   "outputs": [
    {
     "name": "stderr",
     "output_type": "stream",
     "text": [
      "ic| 'Установка интерцептора запросов'\n",
      "ic| \"Интерцептор установлен: \": 'Интерцептор установлен: '\n",
      "    driver.request_interceptor: <function intercept_request at 0x0000018D07BC6170>\n"
     ]
    },
    {
     "data": {
      "text/plain": [
       "('Интерцептор установлен: ', <function __main__.intercept_request(request)>)"
      ]
     },
     "execution_count": 9,
     "metadata": {},
     "output_type": "execute_result"
    }
   ],
   "execution_count": 9
  },
  {
   "metadata": {
    "ExecuteTime": {
     "end_time": "2025-03-18T21:04:45.488375Z",
     "start_time": "2025-03-18T21:04:41.840535Z"
    }
   },
   "cell_type": "code",
   "source": "driver.get(\"https://office.gms.tech\")",
   "id": "ec6dc52a2054ece9",
   "outputs": [],
   "execution_count": 10
  },
  {
   "metadata": {
    "ExecuteTime": {
     "end_time": "2025-03-18T21:04:45.692287Z",
     "start_time": "2025-03-18T21:04:45.504925Z"
    }
   },
   "cell_type": "code",
   "source": [
    "user = driver.find_element(By.ID, \"username\")\n",
    "user.send_keys(AUTH.login_admin)\n",
    "passw = driver.find_element(By.ID, \"password\")\n",
    "passw.send_keys(AUTH.password_admin)\n",
    "log_but = driver.find_element(By.XPATH, '/html/body/app-root/div/app-auth/div/div[3]/div/button').click()"
   ],
   "id": "82eac7260a9187b7",
   "outputs": [],
   "execution_count": 11
  },
  {
   "metadata": {
    "ExecuteTime": {
     "end_time": "2025-03-18T21:04:45.723343Z",
     "start_time": "2025-03-18T21:04:45.709932Z"
    }
   },
   "cell_type": "code",
   "source": [
    "def create_new_tab(url='about:blank'):\n",
    "    script = f\"window.open('{url}', '_blank');\"\n",
    "    return driver.execute_script(script)\n",
    "    # return driver.execute_cdp_cmd(\"Target.createTarget\", {\"url\": url})"
   ],
   "id": "c4e475333b2f2625",
   "outputs": [],
   "execution_count": 12
  },
  {
   "metadata": {
    "ExecuteTime": {
     "end_time": "2025-03-18T21:37:33.259023Z",
     "start_time": "2025-03-18T21:37:33.015261Z"
    }
   },
   "cell_type": "code",
   "source": [
    "# создание кнопок\n",
    "root = tk.Tk()\n",
    "root.title('v.1: Дорогу осилит идущий')\n",
    "\n",
    "# Получаем разрешение экрана\n",
    "screen_width = root.winfo_screenwidth()\n",
    "screen_height = root.winfo_screenheight()\n",
    "\n",
    "# Задаем размеры окна\n",
    "window_width = 630\n",
    "window_height = 450\n",
    "\n",
    "# Задаем координаты окна\n",
    "x = screen_width - window_width\n",
    "y = 0\n",
    "\n",
    "# Устанавливаем размеры и координаты окна\n",
    "root.geometry(f\"{window_width}x{window_height}+{x}+{y}\")\n",
    "\n",
    "send_msg(f'{AUTH.login_admin} запустил скрипт')\n",
    "\n",
    "# os = 'windows'\n",
    "stop_num = 100\n"
   ],
   "id": "f258b712ae5f25d4",
   "outputs": [],
   "execution_count": 68
  },
  {
   "metadata": {
    "ExecuteTime": {
     "end_time": "2025-03-18T21:04:45.989934Z",
     "start_time": "2025-03-18T21:04:45.976364Z"
    }
   },
   "cell_type": "code",
   "source": [
    "def open_link(link):\n",
    "    driver.create_new_tab(link)\n",
    "    # driver.switch_to.new_window('tab')\n",
    "    # driver.get(link)"
   ],
   "id": "a6eb80a0cff263d9",
   "outputs": [],
   "execution_count": 14
  },
  {
   "metadata": {
    "ExecuteTime": {
     "end_time": "2025-03-18T21:04:46.020415Z",
     "start_time": "2025-03-18T21:04:46.010357Z"
    }
   },
   "cell_type": "code",
   "source": [
    "def close_all_windows():\n",
    "    browser_list = driver.window_handles\n",
    "    for window in browser_list[1:]:\n",
    "        driver.switch_to.window(window)\n",
    "        driver.close()"
   ],
   "id": "a14798482e12f50e",
   "outputs": [],
   "execution_count": 15
  },
  {
   "metadata": {
    "ExecuteTime": {
     "end_time": "2025-03-18T21:04:46.051391Z",
     "start_time": "2025-03-18T21:04:46.036845Z"
    }
   },
   "cell_type": "code",
   "source": [
    "def exness_vac():\n",
    "    ic('Exness вакансии')\n",
    "    send_msg(f'{AUTH.login_admin} открыл Exness')\n",
    "    for otklik in pages_analizing():\n",
    "        if otklik['profile_status'] == 'Профиль создан'and otklik['grade'] != 'C':\n",
    "            if '@ Exness' in otklik['vacancy_name']:\n",
    "                open_link(otklik['link'])"
   ],
   "id": "eadf22e45cefcb34",
   "outputs": [],
   "execution_count": 16
  },
  {
   "metadata": {
    "ExecuteTime": {
     "end_time": "2025-03-18T21:04:46.082600Z",
     "start_time": "2025-03-18T21:04:46.067943Z"
    }
   },
   "cell_type": "code",
   "source": [
    "def how_many_pages():\n",
    "    driver.switch_to.window(driver.window_handles[0])\n",
    "    driver.get('https://office.gms.tech/candidate_applications?filter=waiting_for_review&page=1')\n",
    "    try:\n",
    "        num_page = int(driver.find_element(By.XPATH, config.pagination).text.split('\\n')[-2].strip())\n",
    "    except:\n",
    "        num_page = 1\n",
    "\n",
    "    driver.switch_to.window(driver.window_handles[0])\n",
    "    ic(f\"{num_page=}\")\n",
    "    return num_page"
   ],
   "id": "9bfec5d5c503f9b2",
   "outputs": [],
   "execution_count": 17
  },
  {
   "metadata": {
    "ExecuteTime": {
     "end_time": "2025-03-18T21:04:46.113518Z",
     "start_time": "2025-03-18T21:04:46.099357Z"
    }
   },
   "cell_type": "code",
   "source": [
    "def pages_analizing():\n",
    "\n",
    "    def soup_analize(soup):\n",
    "        for i in soup.find('table', class_='table table-hover table-sm').find_all('tr')[1:]:\n",
    "            otklick_dict = {'link': 'https://office.gms.tech' + i.find_all('td')[0].find('a').get('href'),\n",
    "                            'vacancy_name': i.find_all('td')[2].text.strip(),\n",
    "                            'grade': i.find_all('td')[4].text.strip(),\n",
    "                            'profile_status': i.find_all('td')[6].text.strip(),\n",
    "                            'verification_status': i.find_all('td')[7].text.strip()}\n",
    "            for_analize.append(otklick_dict)\n",
    "\n",
    "    for_analize = []\n",
    "    for num in range(1, how_many_pages() + 1):\n",
    "        driver.get(f'https://office.gms.tech/candidate_applications?filter=waiting_for_review&page={num}')\n",
    "        elem = driver.find_element(By.XPATH, config.table_body)\n",
    "        ic(elem)\n",
    "        soup_analize(BeautifulSoup(driver.page_source, 'lxml'))\n",
    "\n",
    "    return for_analize"
   ],
   "id": "55669d3fc206c9c8",
   "outputs": [],
   "execution_count": 18
  },
  {
   "metadata": {
    "ExecuteTime": {
     "end_time": "2025-03-18T21:04:46.144266Z",
     "start_time": "2025-03-18T21:04:46.129738Z"
    }
   },
   "cell_type": "code",
   "source": [
    "def get_otkliks():\n",
    "    send_msg(f'{AUTH.login_admin} открыл Только РФ')\n",
    "    for otklik in pages_analizing():\n",
    "        if otklik['profile_status'] == 'Профиль создан' and otklik['grade'] != 'C':\n",
    "            if '@' in otklik['vacancy_name']:\n",
    "                yield otklik"
   ],
   "id": "ec22a4e56d14585b",
   "outputs": [],
   "execution_count": 19
  },
  {
   "metadata": {
    "ExecuteTime": {
     "end_time": "2025-03-18T21:04:46.175200Z",
     "start_time": "2025-03-18T21:04:46.161786Z"
    }
   },
   "cell_type": "code",
   "source": [
    "def all_vacancies(companies):\n",
    "    for otklik in get_otkliks():\n",
    "        if otklik['vacancy_name'].split('@')[1].strip() in companies:\n",
    "            open_link(otklik['link'])"
   ],
   "id": "7529397395fc6c72",
   "outputs": [],
   "execution_count": 20
  },
  {
   "metadata": {
    "ExecuteTime": {
     "end_time": "2025-03-18T21:04:46.206173Z",
     "start_time": "2025-03-18T21:04:46.192856Z"
    }
   },
   "cell_type": "code",
   "source": [
    "def specific_vacancies(vacancies):\n",
    "    for otklik in get_otkliks():\n",
    "        if otklik['vacancy_name'] in vacancies:\n",
    "            open_link(otklik['link'])"
   ],
   "id": "11cb7d966dd54341",
   "outputs": [],
   "execution_count": 21
  },
  {
   "metadata": {
    "ExecuteTime": {
     "end_time": "2025-03-18T21:04:46.236881Z",
     "start_time": "2025-03-18T21:04:46.223707Z"
    }
   },
   "cell_type": "code",
   "source": [
    "def exness_check():\n",
    "\n",
    "    def sum_exp(soup): # посчет лет опыта в профиле\n",
    "        return sum([int(exp[0])*12 + int(exp[1]) for exp in [re.findall(r'\\d+',exp.find('div', class_='fs-body-2 muted g-mb-8').text.split(',')[1].strip()) for exp in soup.find_all('app-experience')]])\n",
    "\n",
    "    def otkaz_exness():\n",
    "        soup = BeautifulSoup(driver.page_source, 'lxml')\n",
    "        company = soup.find_all(class_='table table-hover table-sm')[1].find_all('tr')[2].find_all('td')[1].text\n",
    "        check = driver.find_element(By.XPATH, config.item_button).text\n",
    "\n",
    "        if check == 'Отказать в представлении' and company == ' #16 Exness ':\n",
    "            try:\n",
    "                driver.find_element(By.XPATH, config.item_button).click()\n",
    "                sleep(1)\n",
    "                driver.close()\n",
    "            except:\n",
    "                pass\n",
    "\n",
    "\n",
    "    print('проверка откликов Exness')\n",
    "    send_msg(f'{AUTH.login_admin} автоотказ Exness')\n",
    "    browser_list = driver.window_handles\n",
    "    norm_eng_level = ['C2', 'C1', 'B2']\n",
    "    ne_norm_eng_level = ['B1','A2','A1', 'NA']\n",
    "    for i in browser_list[1:]:\n",
    "        sleep(1)\n",
    "        driver.switch_to.window(i)\n",
    "        soup = BeautifulSoup(driver.page_source, 'lxml')\n",
    "        pars = soup.find_all('app-card')[1].find('div', class_='g-mt-20').text\n",
    "        if 'Языки Английский' in pars:\n",
    "            eng_level = pars.split('  : ')[1].replace(' Немецкий','').replace(' Французский','')\n",
    "        else: eng_level = 'NA'\n",
    "\n",
    "        if eng_level[:2] in norm_eng_level:\n",
    "            if sum_exp(soup) < max_experience[0] and sum_exp(soup) != 0:\n",
    "                otkaz_exness()\n",
    "        elif eng_level[:2] in ne_norm_eng_level:\n",
    "            otkaz_exness()\n",
    "\n"
   ],
   "id": "1d5532089747292",
   "outputs": [],
   "execution_count": 22
  },
  {
   "metadata": {
    "ExecuteTime": {
     "end_time": "2025-03-18T21:59:24.964529Z",
     "start_time": "2025-03-18T21:59:24.940972Z"
    }
   },
   "cell_type": "code",
   "source": [
    "\n",
    "# soup = BeautifulSoup(driver.page_source, features='lxml')\n",
    "# pars = soup.find_all('app-card')[1].find('div', class_='g-mt-20').text\n",
    "# if 'Языки Английский' in pars:\n",
    "#     eng_level = pars.split('  : ')[1].replace(' Немецкий','').replace(' Французский','').strip()\n",
    "#     exp = sum([int(exp[0])*12 + int(exp[1]) for exp in [re.findall(r'\\d+',exp.find('div', class_='fs-body-2 muted g-mb-8').text.split(',')[1].strip()) for exp in soup.find_all('app-experience')]])\n",
    "#\n",
    "#     print(eng_level[:2])"
   ],
   "id": "46249d050e1783e6",
   "outputs": [
    {
     "name": "stdout",
     "output_type": "stream",
     "text": [
      "B1\n"
     ]
    }
   ],
   "execution_count": 126
  },
  {
   "metadata": {},
   "cell_type": "code",
   "outputs": [],
   "execution_count": null,
   "source": [
    "def refuse_close_page():\n",
    "        check = driver.find_element(By.XPATH,config.item_button).text\n",
    "        if check == 'Отказать в представлении':\n",
    "            try:\n",
    "                check.click()\n",
    "                sleep(1.5)\n",
    "                driver.close()\n",
    "            except:\n",
    "                pass"
   ],
   "id": "1bef46cd94d6cbc6"
  },
  {
   "metadata": {},
   "cell_type": "code",
   "outputs": [],
   "execution_count": null,
   "source": [
    "def city_check(cities, countries, not_this_cities=False, not_this_countries=False): #\n",
    "    ic('Закрыть вакансии')\n",
    "    send_msg(f'{AUTH.login_admin} автоотказ Только РФ')\n",
    "    for i in driver.window_handles[1:]:\n",
    "        sleep(1)\n",
    "        driver.switch_to.window(i)\n",
    "        soup = BeautifulSoup(driver.page_source, 'lxml')\n",
    "        location = soup.find(class_='b-profile__location').text.replace('Живёт в городе ', '').strip()\n",
    "        city = location.split(',')[0]\n",
    "        country = location.split(',')[1][1:]\n",
    "        if (not_this_cities ^ (city in cities)) or (not_this_countries ^ (country in countries)):\n",
    "            refuse_close_page()\n",
    "            ic('отказал', city)"
   ],
   "id": "fbf9014e7465153"
  },
  {
   "metadata": {
    "ExecuteTime": {
     "end_time": "2025-03-18T21:04:46.391004Z",
     "start_time": "2025-03-18T21:04:46.377406Z"
    }
   },
   "cell_type": "code",
   "source": [
    "def open_profile_for_grade(grade):\n",
    "    ic('открыть вакансии',grade)\n",
    "\n",
    "    if grade == 1:\n",
    "        grade = 'A'\n",
    "    elif grade == 2:\n",
    "        grade = 'B'\n",
    "    elif grade == 3:\n",
    "        grade = 'Не классифицирован'\n",
    "\n",
    "\n",
    "    for otklik in pages_analizing():\n",
    "        browser_list = driver.window_handles\n",
    "        if len(browser_list) > stop_num:\n",
    "            ic('too much')\n",
    "            break\n",
    "        if otklik['profile_status'] == 'Профиль создан':\n",
    "            if otklik['grade'] == grade:\n",
    "                open_link(otklik['link'])\n",
    "\n"
   ],
   "id": "b14f0ea3cd0aa34d",
   "outputs": [],
   "execution_count": 26
  },
  {
   "metadata": {
    "ExecuteTime": {
     "end_time": "2025-03-18T21:04:46.421475Z",
     "start_time": "2025-03-18T21:04:46.409079Z"
    }
   },
   "cell_type": "code",
   "source": [
    "def special_vac():\n",
    "    ic('открыть спец вакансии')\n",
    "    send_msg(f'{AUTH.login_admin} открыл спец вакансии')\n",
    "\n",
    "    full_vacancy_name = spec_vacancies  # вставить сюда название вакансии в формате: 'UX/UI Designer @ Leroy Merlin'\n",
    "\n",
    "    for otklik in pages_analizing():\n",
    "        browser_list = driver.window_handles\n",
    "        if len(browser_list) > stop_num:\n",
    "            ic('too much')\n",
    "            break\n",
    "        if otklik['profile_status'] == 'Профиль создан' and otklik['grade'] != 'C':\n",
    "            if otklik['vacancy_name'] in full_vacancy_name:\n",
    "                open_link(otklik['link'])\n"
   ],
   "id": "3f7f4bb069676290",
   "outputs": [],
   "execution_count": 27
  },
  {
   "metadata": {
    "ExecuteTime": {
     "end_time": "2025-03-18T21:04:46.452840Z",
     "start_time": "2025-03-18T21:04:46.439286Z"
    }
   },
   "cell_type": "code",
   "source": [
    "def browser_list_for_auto(browser_list) -> typing.Generator[tuple[BeautifulSoup, str,str,str,str], None, None]:\n",
    "    for i in browser_list[1:]:\n",
    "        driver.switch_to.window(i)\n",
    "        soup = BeautifulSoup(driver.page_source, 'lxml')\n",
    "        grade = soup.find_all('tbody')[0].find_all('tr')[3].text.replace('Грейд', '').strip()\n",
    "        comment, button_check, company = \"\", \"\", \"\"\n",
    "        for i in soup.find_all('tbody')[1].find_all('tr'):\n",
    "            if i.find_all('td')[0].text == 'Сопроводительный комментарий':\n",
    "                comment = i.find_all('td')[1].text.strip()\n",
    "        try:\n",
    "            button_check = soup.find(class_='btn btn-success').text.strip()\n",
    "        except:\n",
    "            try:\n",
    "                button_check = soup.find(class_='btn btn-success mr-3').text.strip()\n",
    "            except:\n",
    "                comment = 1\n",
    "        yield soup, grade, comment, button_check, company"
   ],
   "id": "6e8d765190018cb1",
   "outputs": [],
   "execution_count": 28
  },
  {
   "metadata": {
    "ExecuteTime": {
     "end_time": "2025-03-18T21:04:46.485232Z",
     "start_time": "2025-03-18T21:04:46.476019Z"
    }
   },
   "cell_type": "code",
   "source": [
    "def find_company(soup):\n",
    "    return [f\"{i.find_all('td')[1].text}\".strip() for i in soup.find_all('tbody')[1].find_all('tr') if i.find_all('td')[0].text == 'В компанию'][-1]"
   ],
   "id": "15601e8cc9f17b33",
   "outputs": [],
   "execution_count": 29
  },
  {
   "metadata": {
    "ExecuteTime": {
     "end_time": "2025-03-18T21:04:46.515887Z",
     "start_time": "2025-03-18T21:04:46.503437Z"
    }
   },
   "cell_type": "code",
   "source": [
    "def send_but(company = ''):\n",
    "    send_but = driver.find_element(By.XPATH, config.send_but_other if company != '#' else config.send_but)\n",
    "    send_but.click()\n",
    "    sleep(1)"
   ],
   "id": "1471cabae7c8901e",
   "outputs": [],
   "execution_count": 30
  },
  {
   "metadata": {
    "ExecuteTime": {
     "end_time": "2025-03-18T21:04:46.547662Z",
     "start_time": "2025-03-18T21:04:46.533864Z"
    }
   },
   "cell_type": "code",
   "source": [
    "def if_button_check(button_check) -> ReturnValue:\n",
    "    if button_check == 'Тест представления':\n",
    "        return ReturnValue.test\n",
    "    elif button_check == 'Верифицировать' or button_check == 'Кандидат GMS готов':\n",
    "        return ReturnValue.verify_or_GMS"
   ],
   "id": "89e765ac1cf46c1f",
   "outputs": [],
   "execution_count": 31
  },
  {
   "metadata": {
    "ExecuteTime": {
     "end_time": "2025-03-18T21:04:46.578080Z",
     "start_time": "2025-03-18T21:04:46.564868Z"
    }
   },
   "cell_type": "code",
   "source": [
    "def code_on_auto_a_and_auto_b(value, soup):\n",
    "    ic(value)\n",
    "    match value:\n",
    "        case ReturnValue.test:\n",
    "            driver.find_element(By.XPATH, config.button_check).click()\n",
    "            sleep(1)\n",
    "            driver.close()\n",
    "        case ReturnValue.verify_or_GMS:\n",
    "            send_but()\n",
    "            company = find_company(soup)\n",
    "            send_but(company)\n",
    "            driver.close()\n",
    "        case _:\n",
    "            sleep(1)\n",
    "            return\n"
   ],
   "id": "cb38b8bfee029ec4",
   "outputs": [],
   "execution_count": 32
  },
  {
   "metadata": {
    "ExecuteTime": {
     "end_time": "2025-03-18T21:04:46.608450Z",
     "start_time": "2025-03-18T21:04:46.596323Z"
    }
   },
   "cell_type": "code",
   "source": [
    "def auto_b_without_vac():\n",
    "    browser_list = driver.window_handles\n",
    "    for soup, grade, comment, button_check, company in browser_list_for_auto(browser_list):\n",
    "        ic(f\"{soup=}\", f\"{grade=}\", f\"{comment=}\", f\"{button_check=}\", f\"{company=}\")\n",
    "        code_on_auto_a_and_auto_b(if_button_check(button_check), soup)\n",
    "        sleep(1.6)"
   ],
   "id": "9e23ead4cc9cae82",
   "outputs": [],
   "execution_count": 33
  },
  {
   "metadata": {
    "ExecuteTime": {
     "end_time": "2025-03-18T21:04:46.640068Z",
     "start_time": "2025-03-18T21:04:46.633710Z"
    }
   },
   "cell_type": "code",
   "source": [
    "def auto_a():\n",
    "    ic('автопредставление а грейдов')\n",
    "    send_msg(f'{AUTH.login_admin} автопредставления А')\n",
    "    browser_list = driver.window_handles\n",
    "    for soup, grade, comment, button_check, company in browser_list_for_auto(browser_list):\n",
    "        if grade == 'A' and comment == '':\n",
    "            code_on_auto_a_and_auto_b(if_button_check(button_check), soup)\n",
    "\n",
    "    ic('finish')\n"
   ],
   "id": "2836ee88f4e27f62",
   "outputs": [],
   "execution_count": 34
  },
  {
   "metadata": {
    "ExecuteTime": {
     "end_time": "2025-03-18T21:04:46.671248Z",
     "start_time": "2025-03-18T21:04:46.660087Z"
    }
   },
   "cell_type": "code",
   "source": [
    "def open_b_without_vac():\n",
    "    ic('открыть В-грейды без откликов')\n",
    "    send_msg(f'{AUTH.login_admin} открыть В-грейды без откликов')\n",
    "\n",
    "    for otklik in pages_analizing():\n",
    "        if otklik['profile_status'] == 'Профиль создан':\n",
    "            if '@' not in otklik['vacancy_name'] :\n",
    "                open_link(otklik['link'])\n",
    "\n"
   ],
   "id": "5947ff4ed0a18425",
   "outputs": [],
   "execution_count": 35
  },
  {
   "metadata": {
    "ExecuteTime": {
     "end_time": "2025-03-18T21:04:46.701860Z",
     "start_time": "2025-03-18T21:04:46.690267Z"
    }
   },
   "cell_type": "code",
   "source": [
    "def gms_vac():\n",
    "    ic('открыть вакансии GMS')\n",
    "    send_msg(f'{AUTH.login_admin} открыть вакансии GMS')\n",
    "    driver.switch_to.window(driver.window_handles[0])\n",
    "    driver.get('https://office.gms.tech/candidate_applications?filter=waiting_for_review&page=1&gms=true')\n",
    "    try:\n",
    "        num_page = int(driver.find_element(By.XPATH,\n",
    "                                           '/html/body/app-root/div/app-candidate-applications/app-candidate-applications-list/ngb-pagination[1]/ul').text.split('\\n')[-2])\n",
    "    except:\n",
    "        num_page = 1\n",
    "    driver.switch_to.window(driver.window_handles[0])\n",
    "    ic(num_page)\n",
    "\n",
    "    for_analize = []\n",
    "    for num in range(1, num_page + 1):\n",
    "        driver.get(f'https://office.gms.tech/candidate_applications?filter=waiting_for_review&page={num}&gms=true')\n",
    "        _ = driver.find_element(By.XPATH, config.table_body)\n",
    "        soup = BeautifulSoup(driver.page_source, 'lxml')\n",
    "        for i in soup.find('table', class_='table table-hover table-sm').find_all('tr')[1:]:\n",
    "            link = 'https://office.gms.tech' + i.find_all('td')[0].find('a').get('href')\n",
    "            vacancy_name = i.find_all('td')[2].text\n",
    "            grade = i.find_all('td')[4].text\n",
    "            profile_status = i.find_all('td')[6].text\n",
    "            verification_status = i.find_all('td')[7].text\n",
    "            otklick_dict = {'link': link, 'vacancy_name': vacancy_name, 'grade': grade,\n",
    "                            'profile_status': profile_status, 'verification_status': verification_status}\n",
    "            for_analize.append(otklick_dict)\n",
    "\n",
    "    for otklik in for_analize:\n",
    "        if otklik['profile_status'] == 'Профиль создан':\n",
    "            open_link(otklik['link'])\n"
   ],
   "id": "38e1a19cd08b46ae",
   "outputs": [],
   "execution_count": 36
  },
  {
   "metadata": {
    "ExecuteTime": {
     "end_time": "2025-03-18T21:04:46.750284Z",
     "start_time": "2025-03-18T21:04:46.736360Z"
    }
   },
   "cell_type": "code",
   "source": [
    "def open_all_c():\n",
    "    ic('открыть все С-грейды')\n",
    "    send_msg(f'{AUTH.login_admin} открыть все С-грейд')\n",
    "    for otklik in pages_analizing():\n",
    "        if otklik['grade'] == 'C':\n",
    "            open_link(otklik['link'])\n"
   ],
   "id": "897a63e66d689843",
   "outputs": [],
   "execution_count": 37
  },
  {
   "metadata": {
    "ExecuteTime": {
     "end_time": "2025-03-18T21:04:46.766216Z",
     "start_time": "2025-03-18T21:04:46.757660Z"
    }
   },
   "cell_type": "code",
   "source": [
    "def next_candidate(counter, to_predst):\n",
    "    driver.switch_to.window(driver.window_handles[0])\n",
    "    for i in to_predst[counter[0]][1:]:\n",
    "        driver.create_new_tab(f'https://office.gms.tech/{i}')\n",
    "        # driver.switch_to.new_window('tab')\n",
    "        # driver.get(f'https://office.gms.tech/{i}')\n",
    "\n",
    "    counter[0] += 1"
   ],
   "id": "6adda1eafec84ff7",
   "outputs": [],
   "execution_count": 38
  },
  {
   "metadata": {
    "ExecuteTime": {
     "end_time": "2025-03-18T21:04:46.797415Z",
     "start_time": "2025-03-18T21:04:46.784898Z"
    }
   },
   "cell_type": "code",
   "source": [
    "def cycle_predst():\n",
    "\n",
    "    ic('Цикличное представление')\n",
    "    send_msg(f'{AUTH.login_admin} цикличное представления')\n",
    "\n",
    "    all_otklik = []\n",
    "    for num in range(1, how_many_pages() + 1):\n",
    "        driver.get(f'https://office.gms.tech/candidate_applications?filter=waiting_for_review&page={num}')\n",
    "        elem = driver.find_element(By.XPATH, config.table_body)\n",
    "        ic(elem.text)\n",
    "        sleep(3)\n",
    "        soup = BeautifulSoup(driver.page_source, 'lxml')\n",
    "        for i in soup.find(class_='table table-hover table-sm').find_all('tr')[1:]:\n",
    "            if i.find_all('td')[6].text == 'Профиль создан':\n",
    "                mail = i.find_all('td')[3].text.split(' ')[1]\n",
    "                link = i.find_all('td')[0].find('a').get('href')\n",
    "                all_otklik.append([mail, link])\n",
    "\n",
    "    all_mails = set()\n",
    "    for i in all_otklik:\n",
    "        all_mails.add(i[0])\n",
    "    to_predst = []\n",
    "    for i in all_mails:\n",
    "        candidate = [i]\n",
    "        for n in all_otklik:\n",
    "            if n[0] == i: candidate.append(n[1])\n",
    "        to_predst.append(candidate)\n",
    "    to_predst.sort(key=len, reverse=True)\n",
    "\n",
    "    counter = [0]\n",
    "\n",
    "\n",
    "\n",
    "    panel_window = tk.Toplevel(root)\n",
    "    panel_window.title('v.1')\n",
    "\n",
    "    panel_window.title('v.1: Дорогу осилит идущий')\n",
    "\n",
    "    # Получаем разрешение экрана\n",
    "    screen_width = panel_window.winfo_screenwidth()\n",
    "\n",
    "    # Задаем размеры окна\n",
    "    p_window_width = 150\n",
    "    p_window_height = 100\n",
    "\n",
    "    # Задаем координаты окна\n",
    "    x = screen_width - p_window_width\n",
    "    y = 0\n",
    "\n",
    "    # Устанавливаем размеры и координаты окна\n",
    "    panel_window.geometry(f\"{p_window_width}x{p_window_height}+{x}+{y}\")\n",
    "\n",
    "    # Создаем кнопки и добавляем их на панель\n",
    "    button1 = tk.Button(panel_window, text=\"следующий\", command=partial(next_candidate, counter, to_predst))\n",
    "    button1.pack(padx=10, pady=10)\n",
    "\n",
    "    button2 = tk.Button(panel_window, text=\"Закрыть окно\", command=panel_window.destroy)\n",
    "    button2.pack(padx=10, pady=10)\n"
   ],
   "id": "79d7ba81b3f4712b",
   "outputs": [],
   "execution_count": 39
  },
  {
   "metadata": {
    "ExecuteTime": {
     "end_time": "2025-03-18T21:04:46.829302Z",
     "start_time": "2025-03-18T21:04:46.816444Z"
    }
   },
   "cell_type": "code",
   "source": [
    "def how_many_vac():\n",
    "    ic('Подсчёт вакансий')\n",
    "    send_msg(f'{AUTH.login_admin} подсчет вакансий')\n",
    "\n",
    "    number = 0\n",
    "    for num in range(1, how_many_pages() + 1):\n",
    "        driver.get(f'https://office.gms.tech/candidate_applications?filter=waiting_for_review&page={num}')\n",
    "        sleep(3)\n",
    "        ic(num)\n",
    "        soup = BeautifulSoup(driver.page_source, 'lxml')\n",
    "        for i in soup.find(class_='table table-hover table-sm').find_all('tr')[1:]:\n",
    "            if i.find_all('td')[6].text == 'Профиль создан': number += 1\n",
    "    ic('Сейчас надо представить:',number,'вакансий')\n"
   ],
   "id": "8918f7fdc84069b7",
   "outputs": [],
   "execution_count": 40
  },
  {
   "metadata": {
    "ExecuteTime": {
     "end_time": "2025-03-18T21:37:33.963204Z",
     "start_time": "2025-03-18T21:37:33.948608Z"
    }
   },
   "cell_type": "code",
   "source": [
    "class NextNum:\n",
    "    __counts = {0: 0}\n",
    "\n",
    "    def __call__(self, column):\n",
    "        self.__counts[column] = self.__counts.get(column, 1) + 1\n",
    "        return {'row': self.__counts[column], \"column\": column}"
   ],
   "id": "779d449f72f71ef8",
   "outputs": [],
   "execution_count": 69
  },
  {
   "metadata": {
    "ExecuteTime": {
     "end_time": "2025-03-18T21:40:04.214492Z",
     "start_time": "2025-03-18T21:37:34.074348Z"
    }
   },
   "cell_type": "code",
   "source": [
    "\n",
    "\n",
    "eng_level_text = \"\"\"Для Exness\n",
    "(автоотказ для английского ниже В2\"\"\"\n",
    "how_many_vac_text = \"\"\"Сколько\n",
    "вакансий\n",
    "надо представить\"\"\"\n",
    "\n",
    "def change_exp():\n",
    "    exp = experience.get()\n",
    "    try:\n",
    "        max_experience[0] = round(float(exp) * 12)\n",
    "        print(max_experience)\n",
    "        experience_ERR['text'] = ''\n",
    "    except ValueError:\n",
    "        experience_ERR['text'] = 'Введите число'\n",
    "\n",
    "\n",
    "\n",
    "experience_text = tk.Label(root, text='Установить проходной стаж')\n",
    "experience = tk.Entry(root)\n",
    "experience.insert(0, max_experience[0] / 12)\n",
    "experience_OK = tk.Button(root, text='ОК', command=change_exp)\n",
    "experience_ERR = tk.Label(root, text='', fg='red', font=('Arial', '20', 'bold'))\n",
    "\n",
    "close_all = tk.Button(root, text=\"закрыть окна\", command=close_all_windows)\n",
    "exness = tk.Button(root, text=\"Exness\", command=exness_vac)\n",
    "eng_level = tk.Button(root, text=eng_level_text, command=exness_check,fg=\"red\")\n",
    "rus_all = tk.Button(root, text=\"РФ все вакансии (открыть)\", command=partial(all_vacancies, russia.companies))\n",
    "rus_spec = tk.Button(root, text=\"РФ только по должностям (открыть)\", command=partial(specific_vacancies, russia.vacancies))\n",
    "rus_auto_check = tk.Button(root, text=\"Только РФ (автоотказ)\", command = lambda: city_check(russia.cities, ['Russia','Россия']),fg=\"red\")\n",
    "no_rus_vac_all = tk.Button(root, text=\"Вне РФ все вакансии (открыть)\", command=partial(all_vacancies, other_countries.companies))\n",
    "no_rus_vac_spec = tk.Button(root, text=\"Вне РФ только по должностям (открыть)\", command=partial(all_vacancies, other_countries.vacancies))\n",
    "no_rus_auto_check = tk.Button(root, text=\"Вне РФ (автоотказ)\", command=lambda: city_check(other_countries.cities, ['Russia','Россия'], False, True), fg=\"red\")\n",
    "grade_a = tk.Button(root, text=\"А (открыть)\", command=partial(open_profile_for_grade, 1))\n",
    "grade_b = tk.Button(root, text=\"В (открыть)\", command=partial(open_profile_for_grade, 2))\n",
    "grade_without = tk.Button(root, text=\"Без грейда (открыть)\", command=partial(open_profile_for_grade, 3))\n",
    "special = tk.Button(root, text=\"Специальные вакансии (открыть)\", command=special_vac)\n",
    "auto_a_grade = tk.Button(root, text=\"Автопредставления А грейдов\", command=auto_a,fg=\"red\")\n",
    "auto_b_outvac = tk.Button(root, text=\"Верифицировать В (!Без вакансий!)\", command=auto_b_without_vac,fg=\"red\")\n",
    "auto_gms_outvac = tk.Button(root, text=\"Автопредставление GMS\", command=auto_b_without_vac,fg=\"red\")\n",
    "open_b_without = tk.Button(root, text=\"Открыть В грейды без вакансий\", command=open_b_without_vac)\n",
    "gms = tk.Button(root, text=\"GMS\", command=gms_vac)\n",
    "open_c_grade = tk.Button(root, text=\"Открыть все С\", command=open_all_c)\n",
    "cycle_button = tk.Button(root, text=\"Цикличное  представление\", command=cycle_predst)\n",
    "how_many_vac = tk.Button(root, text=how_many_vac_text, command=how_many_vac)\n",
    "#test_f = tk.Button(root, text=\"test\", command=test,fg=\"red\")\n",
    "quit = tk.Button(root, text=\"Quit\", command=root.destroy)\n",
    "\n",
    "# experience['state'] = tk.DISABLED\n",
    "\n",
    "auto_row = NextNum()\n",
    "\n",
    "close_all.grid(**auto_row(1))\n",
    "\n",
    "exness.grid(**auto_row(0))\n",
    "rus_all.grid(**auto_row(0))\n",
    "rus_spec.grid(**auto_row(0))\n",
    "no_rus_vac_all.grid(**auto_row(0))\n",
    "no_rus_vac_spec.grid(**auto_row(0))\n",
    "special.grid(**auto_row(0))\n",
    "grade_a.grid(**auto_row(0))\n",
    "open_b_without.grid(**auto_row(0))\n",
    "gms.grid(**auto_row(0))\n",
    "grade_b.grid(**auto_row(0))\n",
    "grade_without.grid(**auto_row(0))\n",
    "open_c_grade.grid(**auto_row(0))\n",
    "cycle_button.grid(**auto_row(0))\n",
    "\n",
    "eng_level.grid(**auto_row(2))\n",
    "rus_auto_check.grid(**auto_row(2))\n",
    "no_rus_auto_check.grid(**auto_row(2))\n",
    "auto_a_grade.grid(**auto_row(2))\n",
    "auto_b_outvac.grid(**auto_row(2))\n",
    "auto_gms_outvac.grid(**auto_row(2))\n",
    "\n",
    "how_many_vac.grid(**auto_row(1))\n",
    "\n",
    "quit.grid(**auto_row(1))\n",
    "experience_text.grid(**auto_row(1))\n",
    "experience.grid(**auto_row(1))\n",
    "experience_OK.grid(**auto_row(1))\n",
    "experience_ERR.grid(**auto_row(1))\n",
    "\n",
    "\n",
    "root.mainloop()"
   ],
   "id": "60c83f15f5304bab",
   "outputs": [
    {
     "name": "stderr",
     "output_type": "stream",
     "text": [
      "ic| 'Exness вакансии'\n",
      "ic| f\"{num_page=}\": 'num_page=9'\n",
      "ic| elem: <selenium.webdriver.remote.webelement.WebElement (session=\"7e711c86eb85c175bad61c9ab1940e5c\", element=\"f.F90C188DA99E98F2045B7982CF65120F.d.69FB7D2794E3528A17719EE33936A34D.e.45\")>\n",
      "ic| elem: <selenium.webdriver.remote.webelement.WebElement (session=\"7e711c86eb85c175bad61c9ab1940e5c\", element=\"f.F90C188DA99E98F2045B7982CF65120F.d.B340360136ECDAB59BA9056823E5CEA5.e.60\")>\n",
      "ic| elem: <selenium.webdriver.remote.webelement.WebElement (session=\"7e711c86eb85c175bad61c9ab1940e5c\", element=\"f.F90C188DA99E98F2045B7982CF65120F.d.EAAACD4300549056897D86A84F1BA66A.e.72\")>\n",
      "ic| elem: <selenium.webdriver.remote.webelement.WebElement (session=\"7e711c86eb85c175bad61c9ab1940e5c\", element=\"f.F90C188DA99E98F2045B7982CF65120F.d.BD5589C3C364B851C7C48AE9E117A928.e.80\")>\n",
      "ic| elem: <selenium.webdriver.remote.webelement.WebElement (session=\"7e711c86eb85c175bad61c9ab1940e5c\", element=\"f.F90C188DA99E98F2045B7982CF65120F.d.46BF7F2B6ECC49ECB6A19260F10DC8C5.e.96\")>\n",
      "ic| elem: <selenium.webdriver.remote.webelement.WebElement (session=\"7e711c86eb85c175bad61c9ab1940e5c\", element=\"f.F90C188DA99E98F2045B7982CF65120F.d.F95DE4406BD325D34B4D814CBADEB243.e.110\")>\n",
      "ic| elem: <selenium.webdriver.remote.webelement.WebElement (session=\"7e711c86eb85c175bad61c9ab1940e5c\", element=\"f.F90C188DA99E98F2045B7982CF65120F.d.49D6FAF70BC968CEDB8FA3B4A5831D2E.e.121\")>\n",
      "ic| elem: <selenium.webdriver.remote.webelement.WebElement (session=\"7e711c86eb85c175bad61c9ab1940e5c\", element=\"f.F90C188DA99E98F2045B7982CF65120F.d.753A2D578374FB442CC084FE8A2E3D60.e.132\")>\n",
      "ic| elem: <selenium.webdriver.remote.webelement.WebElement (session=\"7e711c86eb85c175bad61c9ab1940e5c\", element=\"f.F90C188DA99E98F2045B7982CF65120F.d.8CE14BDBACD1530707145A6F44E4AFEA.e.144\")>\n"
     ]
    }
   ],
   "execution_count": 70
  },
  {
   "metadata": {
    "ExecuteTime": {
     "end_time": "2025-03-18T21:05:17.421279Z",
     "start_time": "2025-03-18T21:05:17.408264Z"
    }
   },
   "cell_type": "code",
   "source": "",
   "id": "c1a08f53c6fb7e2f",
   "outputs": [],
   "execution_count": null
  }
 ],
 "metadata": {
  "kernelspec": {
   "display_name": "Python 3",
   "language": "python",
   "name": "python3"
  },
  "language_info": {
   "codemirror_mode": {
    "name": "ipython",
    "version": 2
   },
   "file_extension": ".py",
   "mimetype": "text/x-python",
   "name": "python",
   "nbconvert_exporter": "python",
   "pygments_lexer": "ipython2",
   "version": "2.7.6"
  }
 },
 "nbformat": 4,
 "nbformat_minor": 5
}
